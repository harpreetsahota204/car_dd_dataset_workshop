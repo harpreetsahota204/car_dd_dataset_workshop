{
 "cells": [
  {
   "cell_type": "markdown",
   "metadata": {},
   "source": [
    "# What is a plugin?\n",
    "\n",
    "\n",
    "[FiftyOne Plugins](https://docs.voxel51.com/plugins/) are dynamic add-ons that allow users to customize and enhance the capabilities of FiftyOne by adding new features, easily installing, removing, or updating functionality without changing the core architecture.\n",
    "\n",
    "## FiftyOne Plugin Framework\n",
    "\n",
    "FiftyOne provides a powerful plugin framework that empowers users to extend and customize functionality according to their specific needs. With plugins, you can:\n",
    "\n",
    "* Add new features to the FiftyOne App interface\n",
    "\n",
    "* Create seamless integrations with other tools and APIs\n",
    "\n",
    "* Render custom panels for specialized data visualization\n",
    "\n",
    "* Add custom actions to menus for streamlined workflows\n",
    "\n",
    "* Execute long-running tasks on connected compute clusters\n",
    "\n",
    "The FiftyOne ecosystem includes numerous [ready-to-use plugins that address common computer vision workflows](https://docs.voxel51.com/plugins/#getting-started). For example, the [`@voxel51/io plugin`](https://github.com/voxel51/fiftyone-plugins/tree/main/plugins/io) enables data importing directly within the App, while the [`@voxel51/brain` plugin](https://github.com/voxel51/fiftyone-plugins/tree/main/plugins/brain) allows you to compute embeddings in the background while you continue working. Other popular plugins facilitate [model evaluation](https://github.com/voxel51/fiftyone-plugins/tree/main/plugins/evaluation), [annotation workflows](https://github.com/voxel51/fiftyone-plugins/tree/main/plugins/annotation), and [custom dashboards](https://github.com/voxel51/fiftyone-plugins/tree/main/plugins/dashboard).\n",
    "\n",
    "Many of FiftyOne's built-in features are implemented as plugins, such as [interactive Panels](https://docs.voxel51.com/plugins/developing_plugins/#developing-panels) that function as miniature data applications within App Spaces, allowing you to explore geolocation data or visualize embeddings.\n",
    "\n",
    "Whether you're using the growing collection of community plugins or developing your own, FiftyOne's plugin architecture provides a flexible foundation for customizing your computer vision workflows without compromising the stability of the core platform.\n"
   ]
  },
  {
   "cell_type": "markdown",
   "metadata": {},
   "source": [
    "# Browsing Available FiftyOne Plugins\n",
    "\n",
    "There are several ways to discover and browse available plugins for FiftyOne:\n",
    "\n",
    " 1. Visit the [Official Repository](https://github.com/voxel51/fiftyone-plugins): The FiftyOne plugins repository on GitHub contains a growing collection of official plugins that you can explore. This is the primary source for Voxel51-developed plugins.\n",
    "\n",
    " 2. [Check the Documentation](https://beta-docs.voxel51.com/plugins/): The plugins section of the FiftyOne documentation provides information about popular plugins and their capabilities.\n",
    "\n",
    "The core set of plugins developed by Voxel51 includes:\n",
    "\n",
    "* [`@voxel51/annotation`](https://github.com/voxel51/fiftyone-plugins/tree/main/plugins/annotation) - Integration with annotation tools\n",
    "\n",
    "* [`@voxel51/brain`](https://github.com/voxel51/fiftyone-plugins/tree/main/plugins/brain) - Brain functionality utilities\n",
    "\n",
    "* [`@voxel51/dashboard`](https://github.com/voxel51/fiftyone-plugins/tree/main/plugins/dashboard) - Custom dashboard creation\n",
    "\n",
    "* [`@voxel51/evaluation`](https://github.com/voxel51/fiftyone-plugins/tree/main/plugins/evaluation) - Model evaluation tools\n",
    "\n",
    "* [`@voxel51/io`](https://github.com/voxel51/fiftyone-plugins/tree/main/plugins/io) - Import/export utilities\n",
    "\n",
    "* [`@voxel51/indexes`](https://github.com/voxel51/fiftyone-plugins/tree/main/plugins/indexes) - Database index utilities\n",
    "\n",
    "* [`@voxel51/runs`](https://github.com/voxel51/fiftyone-plugins/tree/main/plugins/runs) - Custom runs management\n",
    "\n",
    "* [`@voxel51/utils`](https://github.com/voxel51/fiftyone-plugins/tree/main/plugins/utils) - SDK utility tools\n",
    "\n",
    "* [`@voxel51/voxelgpt`](https://github.com/voxel51/voxelgpt) - AI assistant for visual datasets\n",
    "\n",
    "* [`@voxel51/zoo`](https://github.com/voxel51/fiftyone-plugins/tree/main/plugins/zoo) - Dataset and model zoo integration\n",
    "\n",
    "Each plugin in the repository includes documentation about its features and how to use it, allowing you to determine which plugins best meet your specific needs.\n",
    "\n",
    "\n",
    "## FiftyOne Community Plugins\n",
    "\n",
    "FiftyOne's ecosystem is enriched by community-contributed plugins that extend the platform's capabilities in innovative ways. \n",
    "\n",
    "The growing collection of community plugins provides specialized tools and integrations developed by computer vision practitioners around the world. Whether you're looking for custom visualization solutions, unique data processing workflows, or integrations with other tools, community plugins offer ready-to-use extensions that can be easily downloaded from the FiftyOne plugins repository. \n",
    "\n",
    "Join the collaborative ecosystem by [using existing community plugins](https://github.com/voxel51/fiftyone-plugins?tab=readme-ov-file#community-plugins) or [sharing your own custom solutions](https://beta-docs.voxel51.com/plugins/developing_plugins/) to help others enhance their computer vision workflows.\n",
    "\n",
    "# Using plugins\n",
    "\n",
    "Let's get hands on with using the Plugins framework. We'll work with the [`quickstart` dataset from the FiftyOne Dataset Zoo](https://beta-docs.voxel51.com/data/dataset_zoo/datasets/). You can download the dataset as follows:\n",
    "\n"
   ]
  },
  {
   "cell_type": "code",
   "execution_count": 1,
   "metadata": {},
   "outputs": [],
   "source": [
    "import fiftyone as fo\n",
    "\n",
    "dataset = fo.load_dataset(\"cardd_from_hub\")"
   ]
  },
  {
   "cell_type": "markdown",
   "metadata": {},
   "source": [
    "## Installing Plugins\n",
    "\n",
    "Plugins can be installed using either the [FiftyOne command line interface (CLI)](https://beta-docs.voxel51.com/cli/#cli-fiftyone-plugins-list) or the Python SDK.\n",
    "\n",
    "### Using the CLI\n",
    "\n",
    "The most common way to install plugins is from GitHub repositories. One pattern you can use is to download all the plugins in a repository:\n",
    "\n",
    "```bash\n",
    "fiftyone plugins download https://github.com/<plugin-author>/<repo-name>\n",
    "```\n",
    "\n",
    "If the repository has several plugins, you can also install specific plugins from that repository with the following syntax:\n",
    "\n",
    "```bash\n",
    "fiftyone plugins download https://github.com/voxel51/fiftyone-plugins --plugin-names @voxel51/brain @voxel51/evaluation\n",
    "```\n",
    "\n",
    "Let's install a few plugins."
   ]
  },
  {
   "cell_type": "code",
   "execution_count": null,
   "metadata": {},
   "outputs": [],
   "source": [
    "!fiftyone plugins download https://github.com/jacobmarks/keyword-search-plugin"
   ]
  },
  {
   "cell_type": "markdown",
   "metadata": {},
   "source": [
    "### Using the SDK\n",
    "\n",
    "You can also install plugins programmatically using the Python SDK. Below is an example:"
   ]
  },
  {
   "cell_type": "code",
   "execution_count": null,
   "metadata": {},
   "outputs": [],
   "source": [
    "import fiftyone.plugins as fop \n",
    "fop.download_plugin(\"https://github.com/allenleetc/plotly-map-panel\")"
   ]
  },
  {
   "cell_type": "markdown",
   "metadata": {},
   "source": [
    "Alternatively, you can download specific plugins from a repository with several plugins via this syntax:"
   ]
  },
  {
   "cell_type": "code",
   "execution_count": null,
   "metadata": {},
   "outputs": [],
   "source": [
    "import fiftyone.plugins as fop \n",
    "fop.download_plugin(\n",
    "    \"https://github.com/voxel51/fiftyone-plugins\",\n",
    "    plugin_names=[\"@voxel51/plugins\", \"@voxel51/evaluation\"]\n",
    ")"
   ]
  },
  {
   "cell_type": "markdown",
   "metadata": {},
   "source": [
    "All plugins are automatically downloaded to your plugins directory in order for FiftyOne to find them. By default, plugins are downloaded to `~/fiftyone/__plugins__`, but you can customize this directory by setting the `FIFTYONE_PLUGINS_DIR` environment variable.\n",
    "\n",
    "You can use the `fiftyone plugins list` command in the [FiftyOne CLI](https://beta-docs.voxel51.com/cli/#cli-fiftyone-plugins-list) to list the plugins that you’ve downloaded or created locally:"
   ]
  },
  {
   "cell_type": "code",
   "execution_count": null,
   "metadata": {},
   "outputs": [],
   "source": [
    "!fiftyone plugins list"
   ]
  },
  {
   "cell_type": "markdown",
   "metadata": {},
   "source": [
    "Alternatively, you can use the [`list_downloaded_plugins` method from the SDK](https://beta-docs.voxel51.com/api/fiftyone.plugins.core.html#list_downloaded_plugins):"
   ]
  },
  {
   "cell_type": "code",
   "execution_count": null,
   "metadata": {},
   "outputs": [],
   "source": [
    "fop.list_downloaded_plugins()"
   ]
  },
  {
   "cell_type": "markdown",
   "metadata": {},
   "source": [
    "### Installing Plugin Dependencies\n",
    "\n",
    "Many plugins require additional dependencies to function properly. You can view and install dependencies using the following commands:"
   ]
  },
  {
   "cell_type": "code",
   "execution_count": null,
   "metadata": {},
   "outputs": [],
   "source": [
    "# View a plugin's dependencies\n",
    "!fiftyone plugins requirements @jacobmarks/image_issues --print"
   ]
  },
  {
   "cell_type": "markdown",
   "metadata": {},
   "source": [
    "You can install the requirements like so:\n"
   ]
  },
  {
   "cell_type": "code",
   "execution_count": null,
   "metadata": {},
   "outputs": [],
   "source": [
    "!fiftyone plugins requirements @jacobmarks/image_issues --install"
   ]
  },
  {
   "cell_type": "markdown",
   "metadata": {},
   "source": [
    "\n",
    "You can also achieve this [via the SDK](https://beta-docs.voxel51.com/api/fiftyone.plugins.core.html):"
   ]
  },
  {
   "cell_type": "code",
   "execution_count": null,
   "metadata": {},
   "outputs": [],
   "source": [
    "import fiftyone.plugins as fop\n",
    "\n",
    "fop.install_plugin_requirements(\"@jacobmarks/image_issues\")"
   ]
  },
  {
   "cell_type": "code",
   "execution_count": 14,
   "metadata": {},
   "outputs": [],
   "source": [
    "import fiftyone.plugins as fop\n",
    "\n",
    "fop.ensure_plugin_requirements(\"@jacobmarks/image_issues\")"
   ]
  },
  {
   "cell_type": "markdown",
   "metadata": {},
   "source": [
    "# Using Plugins via the FiftyOne App\n",
    "\n",
    "Once your plugins have been installed, you can use them via the [FiftyOne App](https://beta-docs.voxel51.com/getting_started/basic/application_tour/).\n",
    "\n",
    "Start by launching the app, when you can do by running:\n",
    "\n",
    "```python\n",
    "import fiftyone as fo\n",
    "\n",
    "fo.launch_app(dataset)\n",
    "```\n",
    "\n",
    "Or by running the following command in your terminal:\n",
    "\n",
    "```bash\n",
    "fiftyone app launch\n",
    "```\n",
    "\n",
    "\n",
    "Note that the `Dashboard`, `Map`, and `Model Evaluation` plugin can be accessed via the panel by hitting the `+` next to the Samples viewer:\n",
    "\n",
    "Other plugins must be accessed via the operations browser. With the app is launched, hit the backtick button on your keyboard (`` ` ``), this will open the operators browser in the app. You can browse available plugins and interact with it via the App. \n",
    "\n",
    "Some plugins require longer execution time, and for that you need to start a delegated service."
   ]
  },
  {
   "cell_type": "markdown",
   "metadata": {},
   "source": [
    "# Understanding Delegated Operations\n",
    "\n",
    "### What Are Delegated Operations?\n",
    "\n",
    "[Delegated operations](https://beta-docs.voxel51.com/plugins/developing_plugins/#delegated-execution_1) allow you to schedule long-running tasks that execute in the background while you continue working with FiftyOne. \n",
    "\n",
    "This is especially useful for:\n",
    "\n",
    "- Computing embeddings for large datasets\n",
    "- Running model evaluation\n",
    "- Processing and importing large datasets\n",
    "- Exporting datasets in various formats\n",
    "\n",
    "### Why Use Delegated Operations?\n",
    "\n",
    "Without [delegated operations](https://beta-docs.voxel51.com/api/fiftyone.operators.delegated.DelegatedOperationService.html), tasks like computing embeddings would block your FiftyOne session until they complete. Delegated operations let you:\n",
    "\n",
    "1. Schedule tasks and continue working\n",
    "2. Run resource-intensive operations without affecting UI responsiveness\n",
    "3. Manage and track the status of long-running processes\n",
    "\n",
    "### Starting a Delegated Service\n",
    "\n",
    "First, enable legacy orchestrators in your environment. If you already have an app session running, you need to close it and then open your terminal and run the following command:\n",
    "\n",
    "```bash\n",
    "export FIFTYONE_ALLOW_LEGACY_ORCHESTRATORS=true\n",
    "```\n",
    "\n",
    "Go ahead and lanch the app again. \n",
    "\n",
    "Then, open a new terminal session and launch the delegated service by running the following command in your terminal:\n",
    "\n",
    "```bash\n",
    "fiftyone delegated launch\n",
    "```\n",
    "\n",
    "This command starts a service that continuously checks for queued operations and executes them serially.\n",
    "\n",
    "In the example below, I will run the Moondream2 plugin and add short captions to each image on the dataset. You'll notice that I set the environment variable in the same terminal session as where I launched the app, and I can view the progress in the other terminal session where I launched the delegated service."
   ]
  },
  {
   "cell_type": "markdown",
   "metadata": {},
   "source": [
    "# Using plugins via FiftyOne SDK\n",
    "\n",
    "The [FiftyOne SDK](https://beta-docs.voxel51.com/plugins/using_plugins/#executing-operators-via-sdk) provides a programmatic way to execute plugin operators directly from your Python code, giving you the same functionality available in the App but with the flexibility of code integration.\n",
    "\n",
    "Operators that implement the `__call__` method can be invoked as functions with natural Python syntax, as shown above. The parameters you pass are automatically converted to the format expected by the operator.\n",
    "\n",
    "Each operator has a unique URI that follows this format: `@namespace/plugin-name/operator-name`\n",
    "\n",
    "You can find these URIs by:\n",
    "\n",
    "• Looking in the plugin's [`fiftyone.yal` file](https://beta-docs.voxel51.com/plugins/developing_plugins/#fiftyoneyml\n",
    ")\n",
    "\n",
    "• Using the CLI: `fiftyone operators info`\n",
    "\n",
    "• Checking the plugin's documentation\n"
   ]
  },
  {
   "cell_type": "markdown",
   "metadata": {},
   "source": [
    "### Jupyter Notebook-Specific Behavior\n",
    "\n",
    "When using FiftyOne operators in notebooks (like Jupyter or Colab), there's an important difference in execution flow: operators return an `asyncio.Task` rather than immediate results. \n",
    "\n",
    "This means you must use the `await` keyword to properly retrieve the results. If you forget to use `await`, you'll receive a Task object instead of your actual results, which may cause confusion when trying to access or process the output. \n",
    "\n",
    "This asynchronous behavior is specific to notebook environments and ensures that your notebook interface remains responsive during operation execution, especially for operations that might take time to complete.\n",
    "\n",
    "> Note: The below assumes you have your delegated service still running. If you have stopped your delegated service please execute `fiftyone delegated launch` in your terminal before running the next line of code."
   ]
  },
  {
   "cell_type": "markdown",
   "metadata": {},
   "source": [
    "# Python Panels\n",
    "\n",
    "Closely related to Plugins are [Panels](https://beta-docs.voxel51.com/plugins/developing_plugins/#panels), which are miniature full-featured data applications that you can open in App spaces and interactively manipulate to explore your dataset and update/respond to updates from other spaces that are currently open in the App.\n",
    "\n",
    "FiftyOne natively includes the following Panels:\n",
    "\n",
    "• Samples panel: the media grid that loads by default when you launch the App\n",
    "\n",
    "• Histograms panel: a dashboard of histograms for the fields of your dataset\n",
    "\n",
    "• Embeddings panel: a canvas for working with embeddings visualizations\n",
    "\n",
    "• [Map panel](https://beta-docs.voxel51.com/fiftyone_concepts/app/#map-panel): visualizes the geolocation data of datasets that have a GeoLocation field\n",
    "\n",
    "### Using the Map Panel\n",
    "\n",
    "The map panels requires a Mapbox token, which you can get [here](https://console.mapbox.com/). Once you have your token, you need to set the following enviornment variable:\n",
    "\n",
    "```bash\n",
    "export MAPBOX_TOKEN=XXXXXXXX\n",
    "```\n",
    "\n",
    "You will have to set this token before you launch the FiftyOne app, or if you restart or end your current Python session. Alternatively, you can configire the token via the FiftyOne App config. You can [learn how to do that here](https://beta-docs.voxel51.com/fiftyone_concepts/config/#configuring-fiftyone-app).\n",
    "\n",
    "### Let's add some synthetic geolocation data\n",
    "\n",
    "Let's generate some synthetic latitude and longitude coordinates and [parse them as `GeoLocation` types](https://beta-docs.voxel51.com/api/fiftyone.core.labels.GeoLocation.html)."
   ]
  },
  {
   "cell_type": "code",
   "execution_count": null,
   "metadata": {},
   "outputs": [],
   "source": [
    "import random\n",
    "import fiftyone as fo\n",
    "\n",
    "def generate_us_coordinates(num_points):\n",
    "    \"\"\"\n",
    "    Generate random coordinates within continental US boundaries\n",
    "    \n",
    "    Continental US boundaries (approximate):\n",
    "    - Latitude: 24.396308° to 49.384358° N\n",
    "    - Longitude: -125.000000° to -66.934570° W\n",
    "    \"\"\"\n",
    "    \n",
    "    # Continental US boundaries\n",
    "    MIN_LAT = 24.396308\n",
    "    MAX_LAT = 49.384358\n",
    "    MIN_LON = -125.000000\n",
    "    MAX_LON = -66.934570\n",
    "    \n",
    "    locations = []\n",
    "    for _ in range(num_points):\n",
    "        # Generate random lat/lon within US bounds\n",
    "        lon = random.uniform(MIN_LON, MAX_LON)\n",
    "        lat = random.uniform(MIN_LAT, MAX_LAT)\n",
    "        \n",
    "        # Create GeoLocation object\n",
    "        geo_location = fo.GeoLocation(\n",
    "            point=[lon, lat],  # Note: GeoLocation expects [longitude, latitude]\n",
    "        )\n",
    "        locations.append(geo_location)\n",
    "    \n",
    "    return locations\n",
    "\n",
    "# Example usage:\n",
    "synthetic_locations = generate_us_coordinates(len(dataset))\n",
    "\n",
    "dataset.set_values(\"location\", synthetic_locations)"
   ]
  },
  {
   "cell_type": "code",
   "execution_count": null,
   "metadata": {},
   "outputs": [],
   "source": [
    "fo.launch_app(dataset)"
   ]
  },
  {
   "cell_type": "markdown",
   "metadata": {},
   "source": [
    "\n",
    "\n",
    "# Summary\n",
    "\n",
    "In this tutorial, we explored the powerful plugin architecture of the FiftyOne platform, designed to enhance and extend the capabilities of your computer vision workflows. We covered the basics of what plugins are, how they can be integrated into FiftyOne, and the benefits they offer for customized data handling and visualization.\n",
    "\n",
    "\n",
    "### Learn more about working with plugins\n",
    "\n",
    "* Watch one of our [previously recorded workshops for getting started with plugins on YouTube](https://youtu.be/y4FTFxZwp8g)\n",
    "\n",
    "* Learn more about using the [Model Evaluation Panel](https://beta-docs.voxel51.com/fiftyone_concepts/evaluation/#model-evaluation-panel-sub-new)\n",
    "\n",
    "* Read the documentation about [enabling and disabling plugins](https://beta-docs.voxel51.com/plugins/using_plugins/#enabling-and-disabling-plugins)\n",
    "\n",
    "* Read the documentation about [getting detailed informaton about a plugin](https://beta-docs.voxel51.com/plugins/using_plugins/#getting-plugin-info)\n",
    "\n",
    "* Read the documentation for [deleting plugins](https://beta-docs.voxel51.com/plugins/using_plugins/#deleting-plugins)\n",
    "\n",
    "* Read the documentation for [configuring plugins and plugin secrets](https://beta-docs.voxel51.com/plugins/using_plugins/#configuring-plugins)"
   ]
  }
 ],
 "metadata": {
  "kernelspec": {
   "display_name": "fiftyone",
   "language": "python",
   "name": "python3"
  },
  "language_info": {
   "codemirror_mode": {
    "name": "ipython",
    "version": 3
   },
   "file_extension": ".py",
   "mimetype": "text/x-python",
   "name": "python",
   "nbconvert_exporter": "python",
   "pygments_lexer": "ipython3",
   "version": "3.11.0"
  }
 },
 "nbformat": 4,
 "nbformat_minor": 2
}
