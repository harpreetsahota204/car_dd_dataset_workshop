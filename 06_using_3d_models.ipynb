{
 "cells": [
  {
   "cell_type": "markdown",
   "metadata": {},
   "source": [
    "[![Open In Colab](https://colab.research.google.com/assets/colab-badge.svg)](https://colab.research.google.com/github/harpreetsahota204/car_dd_dataset_workshop/blob/main/06_using_3d_models.ipynb)\n",
    "\n",
    "\n",
    "Note: If using in Google Colab, make sure you [install all the requirements listed here](https://github.com/harpreetsahota204/car_dd_dataset_workshop/blob/main/requirements.txt).\n",
    "\n",
    "Which you can do by running the following:\n",
    "\n",
    "```\n",
    "# Install requirements directly from the URL\n",
    "!pip install -r https://raw.githubusercontent.com/harpreetsahota204/car_dd_dataset_workshop/refs/heads/main/requirements.txt\n",
    "```\n",
    "\n",
    "You'll also want to connect to a GPU runtime.\n",
    "\n",
    "\n",
    "\n",
    "# Using VGGT as a FiftyOne Remote Source Zoo Model\n"
   ]
  },
  {
   "cell_type": "code",
   "execution_count": null,
   "metadata": {},
   "outputs": [],
   "source": [
    "import fiftyone as fo\n",
    "\n",
    "# dataset = fo.load_dataset(\"cardd_from_hub\")\n",
    "\n",
    "# # or if you are in a new notebook\n",
    "import fiftyone as fo\n",
    "from fiftyone.utils.huggingface import load_from_hub\n",
    "\n",
    "dataset = load_from_hub(\n",
    "    \"harpreetsahota/CarDD\",\n",
    "    name=\"cardd_from_hub\",\n",
    "    max_samples=100, # if you want to work with a subset of the dataset\n",
    "    persistent=True,\n",
    "    overwrite=True,\n",
    "    )"
   ]
  },
  {
   "cell_type": "markdown",
   "metadata": {},
   "source": [
    "## Set up the model source\n",
    "\n",
    "First, you need to register the model source. You can do so as shown here:"
   ]
  },
  {
   "cell_type": "code",
   "execution_count": null,
   "metadata": {},
   "outputs": [],
   "source": [
    "import fiftyone.zoo as foz\n",
    "\n",
    "foz.register_zoo_model_source(\n",
    "    \"https://github.com/harpreetsahota204/vggt\",\n",
    "    overwrite=True\n",
    ")"
   ]
  },
  {
   "cell_type": "markdown",
   "metadata": {},
   "source": [
    "Next, you need to instantiate the model.\n",
    "\n",
    "Note, be sure to install the following:\n",
    "\n",
    "- `vggt@git+https://github.com/facebookresearch/vggt.git`\n",
    "- `open3d`"
   ]
  },
  {
   "cell_type": "code",
   "execution_count": null,
   "metadata": {},
   "outputs": [],
   "source": [
    "model = foz.load_zoo_model(\n",
    "    \"facebook/VGGT-1B\",\n",
    "    mode=\"crop\", # you can also pass \"pad\",\n",
    "    confidence_threshold=0.7\n",
    "    )"
   ]
  },
  {
   "cell_type": "markdown",
   "metadata": {},
   "source": [
    "Finally, you can apply the model to your dataset:"
   ]
  },
  {
   "cell_type": "code",
   "execution_count": null,
   "metadata": {},
   "outputs": [],
   "source": [
    "dataset.apply_model(model, \"depth_map_path\")"
   ]
  },
  {
   "cell_type": "markdown",
   "metadata": {},
   "source": [
    "Note, we are saving only the paths to the depth map as a dummy field. We won't have these as a part of our original dataset, instead we will create a Grouped Dataset (shown below):"
   ]
  },
  {
   "cell_type": "code",
   "execution_count": null,
   "metadata": {},
   "outputs": [],
   "source": [
    "import fiftyone as fo\n",
    "import os\n",
    "from pathlib import Path\n",
    "\n",
    "# Get filepaths from your existing dataset\n",
    "filepaths = dataset.values(\"filepath\")\n",
    "\n",
    "# Create a new grouped dataset\n",
    "grouped_dataset = fo.Dataset(\"cardd_3d\", overwrite=True)\n",
    "grouped_dataset.add_group_field(\"group\", default=\"rgb\")\n",
    "\n",
    "# Process each filepath and create the group structure\n",
    "samples = []\n",
    "for filepath in filepaths:\n",
    "    # Extract base information from the filepath\n",
    "    path = Path(filepath)\n",
    "    base_dir = path.parent\n",
    "    base_name = path.stem\n",
    "    \n",
    "    # Create paths for each modality following your pattern\n",
    "    rgb_path = filepath  # Original filepath (RGB)\n",
    "    depth_path = os.path.join(base_dir, f\"{base_name}_depth.png\")  # Depth map\n",
    "    threed_path = os.path.join(base_dir, f\"{base_name}.fo3d\")  # 3D point cloud\n",
    "    \n",
    "    # Create a group for these related samples\n",
    "    group = fo.Group()\n",
    "    \n",
    "    # Create a sample for each modality with the appropriate group element\n",
    "    rgb_sample = fo.Sample(filepath=rgb_path, group=group.element(\"rgb\"))\n",
    "    depth_sample = fo.Sample(filepath=depth_path, group=group.element(\"depth\"))\n",
    "    threed_sample = fo.Sample(filepath=threed_path, group=group.element(\"threed\"))\n",
    "    \n",
    "    # Add samples to the list\n",
    "    samples.extend([rgb_sample, depth_sample, threed_sample])\n",
    "\n",
    "# Add all samples to the dataset\n",
    "grouped_dataset.add_samples(samples)\n",
    "grouped_dataset.save()"
   ]
  },
  {
   "cell_type": "markdown",
   "metadata": {},
   "source": [
    "Now we can view the results in the FiftyOne App"
   ]
  },
  {
   "cell_type": "code",
   "execution_count": null,
   "metadata": {},
   "outputs": [],
   "source": [
    "fo.launch_app(grouped_dataset)"
   ]
  }
 ],
 "metadata": {
  "kernelspec": {
   "display_name": "fiftyone",
   "language": "python",
   "name": "python3"
  },
  "language_info": {
   "codemirror_mode": {
    "name": "ipython",
    "version": 3
   },
   "file_extension": ".py",
   "mimetype": "text/x-python",
   "name": "python",
   "nbconvert_exporter": "python",
   "pygments_lexer": "ipython3",
   "version": "3.11.8"
  }
 },
 "nbformat": 4,
 "nbformat_minor": 2
}
