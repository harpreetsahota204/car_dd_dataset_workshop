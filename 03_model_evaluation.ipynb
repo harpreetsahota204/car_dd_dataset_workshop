{
 "cells": [
  {
   "cell_type": "markdown",
   "metadata": {},
   "source": []
  },
  {
   "cell_type": "code",
   "execution_count": 3,
   "metadata": {},
   "outputs": [],
   "source": [
    "import fiftyone as fo\n",
    "from ultralytics import YOLO\n",
    "\n",
    "def load_dataset(split):\n",
    "    \"\"\"\n",
    "    Load a CarDD dataset split from COCO format files.\n",
    "\n",
    "    Args:\n",
    "        split (str): Dataset split to load. Must be one of: 'train', 'test', or 'val'.\n",
    "\n",
    "    Returns:\n",
    "        fiftyone.core.dataset.Dataset: A FiftyOne dataset containing the car damage detection\n",
    "            data for the specified split, with the following fields:\n",
    "            - Ground truth instance segmentation masks and bounding boxes\n",
    "            - Original COCO category IDs preserved\n",
    "            - Named as 'car_dd_{split}'\n",
    "    \"\"\"\n",
    "    dataset = fo.Dataset.from_dir(\n",
    "        data_path=f\"CarDD_release/CarDD_COCO/{split}2017\",\n",
    "        labels_path=f\"CarDD_release/CarDD_COCO/annotations/instances_{split}2017.json\",\n",
    "        dataset_type=fo.types.COCODetectionDataset,\n",
    "        name=f\"car_dd_{split}\",\n",
    "        overwrite=True,\n",
    "        include_id=True,\n",
    "    )\n",
    "    return dataset\n"
   ]
  },
  {
   "cell_type": "code",
   "execution_count": 4,
   "metadata": {},
   "outputs": [
    {
     "name": "stdout",
     "output_type": "stream",
     "text": [
      " 100% |███████████████| 2816/2816 [15.9s elapsed, 0s remaining, 182.2 samples/s]      \n",
      " 100% |█████████████████| 374/374 [2.0s elapsed, 0s remaining, 194.9 samples/s]      \n",
      " 100% |█████████████████| 810/810 [4.4s elapsed, 0s remaining, 186.8 samples/s]      \n"
     ]
    }
   ],
   "source": [
    "train_data = load_dataset(\"train\")\n",
    "test_data = load_dataset(\"test\")\n",
    "val_data = load_dataset(\"val\")"
   ]
  },
  {
   "cell_type": "markdown",
   "metadata": {},
   "source": [
    "FiftyOne supports exporting datasets to disk in various common formats and can be extended for custom formats.\n",
    "\n",
    " You can export entire datasets or subsets using the Python library or CLI. The export() method automatically coerces data types to match the requested export types. Several dataset types are supported, including ImageDirectory, VideoDirectory, FiftyOneImageClassificationDataset, and COCODetectionDataset. You can also export datasets in custom formats by defining your own Dataset or DatasetExporter class.\n",
    "\n",
    "\n",
    "https://beta-docs.voxel51.com/fiftyone_concepts/export_datasets/"
   ]
  },
  {
   "cell_type": "code",
   "execution_count": null,
   "metadata": {},
   "outputs": [],
   "source": []
  },
  {
   "cell_type": "code",
   "execution_count": null,
   "metadata": {},
   "outputs": [],
   "source": []
  },
  {
   "cell_type": "code",
   "execution_count": null,
   "metadata": {},
   "outputs": [],
   "source": [
    "\n",
    "\n",
    "def export_to_yolo(dataset, split, classes = [\"crack\", \"dent\", \"scratch\", \"glass shatter\", \"tire flat\", \"lamp broken\"]):\n",
    "    export_path = f\"/Users/prerna/datasets/carDD\"\n",
    "    label_field = \"polylines\"\n",
    "    # fol.instances_to_polylines(dataset, \"segmentations\", \"polylines\")\n",
    "    dataset.export(\n",
    "        export_dir=export_path,\n",
    "        dataset_type=fo.types.YOLOv5Dataset,\n",
    "        split=split,\n",
    "        label_field=label_field,\n",
    "        classes=classes,\n",
    "    )\n",
    "\n",
    "\n",
    "def train():\n",
    "    # Load YOLOv11 model for instance segmentation\n",
    "    model = YOLO('yolo11s-seg.pt')  # Pre-trained YOLOv11 segmentation model\n",
    "\n",
    "    # Set up training configuration\n",
    "    model.train(\n",
    "        data='/Users/prerna/datasets/carDD/dataset.yaml',  \n",
    "        epochs=100,                                        \n",
    "        batch=8,                                          \n",
    "        imgsz=640,                                         \n",
    "        val=True,                                          \n",
    "        save=True,                                         \n",
    "        save_period=5,                                     \n",
    "        project='car_damage_segmentation',                 \n",
    "        name='yolov11_seg_run',                            \n",
    "        workers=4,                                         \n",
    "        device='mps',                                      \n",
    "        patience=10,                                       \n",
    "        verbose=True                                       \n",
    "    )\n",
    "\n",
    "def apply_model(dataset):\n",
    "    model_path = \"/Users/prerna/models/carDD/best.pt\"\n",
    "    model = YOLO(model_path)\n",
    "\n",
    "    dataset = fo.load_dataset(\"carDD-test\")\n",
    "    dataset.apply_model(model, label_field=\"yolo11_large\")"
   ]
  }
 ],
 "metadata": {
  "kernelspec": {
   "display_name": "fiftyone",
   "language": "python",
   "name": "python3"
  },
  "language_info": {
   "codemirror_mode": {
    "name": "ipython",
    "version": 3
   },
   "file_extension": ".py",
   "mimetype": "text/x-python",
   "name": "python",
   "nbconvert_exporter": "python",
   "pygments_lexer": "ipython3",
   "version": "3.11.0"
  }
 },
 "nbformat": 4,
 "nbformat_minor": 2
}
